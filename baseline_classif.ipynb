{
 "cells": [
  {
   "cell_type": "code",
   "execution_count": 4,
   "metadata": {},
   "outputs": [],
   "source": [
    "from src.utils import audio_utils\n",
    "import matplotlib.pyplot as plt\n",
    "import os\n",
    "import torch\n",
    "nn = torch.nn\n",
    "from src.utils import path_utils\n",
    "import torchinfo\n",
    "import torchvision\n",
    "from tqdm import tqdm"
   ]
  },
  {
   "cell_type": "code",
   "execution_count": 5,
   "metadata": {},
   "outputs": [],
   "source": [
    "class ClassifDataset(torch.utils.data.Dataset):\n",
    "\n",
    "  def __init__(self, positive_path, negative_path, hard_path, mean, std, transform_audio):\n",
    "    self.positive_path = positive_path\n",
    "    self.negative_path = negative_path\n",
    "    self.hard_path = hard_path\n",
    "    self.positive_files = [file for file in os.listdir(self.positive_path) if file.endswith(\".wav\")]\n",
    "    self.negative_files = [file for file in os.listdir(self.negative_path) if file.endswith(\".wav\")]\n",
    "    self.hard_files = [file for file in os.listdir(self.hard_path) if file.endswith(\".wav\")]\n",
    "    self.reshape_size = (129, 229)\n",
    "\n",
    "    self.transform_audio = transform_audio\n",
    "    self.transform_image = torchvision.transforms.Compose([torchvision.transforms.ToTensor(), torchvision.transforms.Resize(self.reshape_size),torchvision.transforms.Normalize(mean=mean, std=std)])\n",
    "\n",
    "  def __len__(self):\n",
    "    return len(self.positive_files) + len(self.negative_files) + len(self.hard_files)\n",
    "\n",
    "  def __getitem__(self, idx):\n",
    "    if idx < len(self.positive_files):\n",
    "      file_path = os.path.join(self.positive_path, self.positive_files[idx])\n",
    "      data, fs = audio_utils.load_audio_file(file_path)\n",
    "      x = self.transform_audio(data)\n",
    "      x = self.transform_image(x)\n",
    "      return x, 1\n",
    "    elif idx < len(self.positive_files) + len(self.negative_files):\n",
    "      file_path = os.path.join(self.negative_path, self.negative_files[idx - len(self.positive_files)])\n",
    "      data, fs = audio_utils.load_audio_file(file_path)\n",
    "      x = self.transform_audio(data)\n",
    "      x = self.transform_image(x)\n",
    "      return x, 0\n",
    "    else:\n",
    "      file_path = os.path.join(self.hard_path, self.hard_files[idx - len(self.positive_files) - len(self.negative_files)])\n",
    "      data, fs = audio_utils.load_audio_file(file_path)\n",
    "      x = self.transform_audio(data)\n",
    "      x = self.transform_image(x)\n",
    "      return x, 0"
   ]
  },
  {
   "cell_type": "code",
   "execution_count": 6,
   "metadata": {},
   "outputs": [],
   "source": [
    "def create_dataset(train_test: bool):\n",
    "\n",
    "  def transform_audio(data):\n",
    "    _, _, specto = audio_utils.compute_spectrogram(data, 24000, nperseg=256, noverlap=256//4, scale=\"dB\")\n",
    "    # freq clip\n",
    "    specto = specto[:120, :]\n",
    "    return specto\n",
    "\n",
    "  dataset = ClassifDataset(\n",
    "    positive_path=path_utils.get_train_test_path(path_utils.get_positive_samples_path(), train_test),\n",
    "    negative_path=path_utils.get_train_test_path(path_utils.get_negative_samples_path(), train_test),\n",
    "    hard_path=path_utils.get_train_test_path(path_utils.get_hard_samples_path(), train_test),\n",
    "    mean=0.,\n",
    "    std=1.,\n",
    "    transform_audio=transform_audio)\n",
    "  \n",
    "  return dataset"
   ]
  },
  {
   "cell_type": "code",
   "execution_count": 7,
   "metadata": {},
   "outputs": [],
   "source": [
    "train_dataset = create_dataset(train_test=True)\n",
    "test_dataset = create_dataset(train_test=False)\n",
    "train_dataloader = torch.utils.data.DataLoader(train_dataset, batch_size=32, shuffle=True, drop_last=True)\n",
    "test_dataloader = torch.utils.data.DataLoader(test_dataset, batch_size=32, shuffle=False, drop_last=False)"
   ]
  },
  {
   "cell_type": "code",
   "execution_count": 8,
   "metadata": {},
   "outputs": [
    {
     "name": "stdout",
     "output_type": "stream",
     "text": [
      "mean: -1.1142219305038452, std: 1.8928380012512207\n"
     ]
    }
   ],
   "source": [
    "mean, std = 0., 0.\n",
    "for x, y in train_dataloader:\n",
    "  mean += torch.mean(x)\n",
    "  std += torch.std(x, ) ** 2\n",
    "print(f\"mean: {mean/len(train_dataset)}, std: {(std/len(train_dataset)) ** 0.5}\")"
   ]
  },
  {
   "cell_type": "code",
   "execution_count": 9,
   "metadata": {},
   "outputs": [],
   "source": [
    "def create_dataset_standadization(train_test: bool):\n",
    "\n",
    "  def transform_audio(data):\n",
    "    _, _, specto = audio_utils.compute_spectrogram(data, 24000, nperseg=256, noverlap=256//4, scale=\"dB\")\n",
    "    # freq clip\n",
    "    specto = specto[:120, :]\n",
    "    return specto\n",
    "\n",
    "  dataset = ClassifDataset(\n",
    "    positive_path=path_utils.get_train_test_path(path_utils.get_positive_samples_path(), train_test),\n",
    "    negative_path=path_utils.get_train_test_path(path_utils.get_negative_samples_path(), train_test),\n",
    "    hard_path=path_utils.get_train_test_path(path_utils.get_hard_samples_path(), train_test),\n",
    "    mean=-1.5489901304244995,\n",
    "    std=3.3042893409729004,\n",
    "    transform_audio=transform_audio)\n",
    "  \n",
    "  return dataset"
   ]
  },
  {
   "cell_type": "code",
   "execution_count": 10,
   "metadata": {},
   "outputs": [],
   "source": [
    "train_dataset = create_dataset_standadization(train_test=True)\n",
    "test_dataset = create_dataset_standadization(train_test=False)\n",
    "train_dataloader = torch.utils.data.DataLoader(train_dataset, batch_size=32, shuffle=True, drop_last=True)\n",
    "test_dataloader = torch.utils.data.DataLoader(test_dataset, batch_size=32, shuffle=False, drop_last=False)"
   ]
  },
  {
   "cell_type": "code",
   "execution_count": 11,
   "metadata": {},
   "outputs": [
    {
     "name": "stdout",
     "output_type": "stream",
     "text": [
      "mean: -0.3224743604660034, std: 0.5711084604263306\n"
     ]
    }
   ],
   "source": [
    "mean, std = 0., 0.\n",
    "for x, y in train_dataloader:\n",
    "  mean += torch.mean(x)\n",
    "  std += torch.std(x, ) ** 2\n",
    "print(f\"mean: {mean/len(train_dataset)}, std: {(std/len(train_dataset)) ** 0.5}\")"
   ]
  },
  {
   "cell_type": "code",
   "execution_count": 12,
   "metadata": {},
   "outputs": [],
   "source": [
    "class BasicModel(nn.Module):\n",
    "  def __init__(self):\n",
    "    super().__init__()\n",
    "    self.main = nn.Sequential(\n",
    "      nn.Conv2d(1, 16, kernel_size=3, stride=1, padding=1),\n",
    "      nn.ReLU(),\n",
    "      nn.MaxPool2d(kernel_size=2, stride=2),\n",
    "      nn.Conv2d(16, 32, kernel_size=3, stride=1, padding=1),\n",
    "      nn.ReLU(),\n",
    "      nn.MaxPool2d(kernel_size=2, stride=2),\n",
    "      nn.Conv2d(32, 64, kernel_size=3, stride=1, padding=1),\n",
    "      nn.ReLU(),\n",
    "      nn.MaxPool2d(kernel_size=2, stride=2),\n",
    "      nn.Conv2d(64, 128, kernel_size=3, stride=1, padding=1),\n",
    "      nn.ReLU(),\n",
    "      nn.MaxPool2d(kernel_size=2, stride=2),\n",
    "    )\n",
    "    self.linear = nn.Linear(128, 2)\n",
    "  \n",
    "  def forward(self, x):\n",
    "    x = self.main(x)\n",
    "    # global average pooling\n",
    "    x = nn.functional.avg_pool2d(x, kernel_size=x.shape[2:]).view(x.shape[0], -1)\n",
    "    x = self.linear(x)\n",
    "    return x\n"
   ]
  },
  {
   "cell_type": "code",
   "execution_count": 13,
   "metadata": {},
   "outputs": [
    {
     "data": {
      "text/plain": [
       "==========================================================================================\n",
       "Layer (type:depth-idx)                   Output Shape              Param #\n",
       "==========================================================================================\n",
       "BasicModel                               [1, 2]                    --\n",
       "├─Sequential: 1-1                        [1, 128, 25, 12]          --\n",
       "│    └─Conv2d: 2-1                       [1, 16, 400, 200]         160\n",
       "│    └─ReLU: 2-2                         [1, 16, 400, 200]         --\n",
       "│    └─MaxPool2d: 2-3                    [1, 16, 200, 100]         --\n",
       "│    └─Conv2d: 2-4                       [1, 32, 200, 100]         4,640\n",
       "│    └─ReLU: 2-5                         [1, 32, 200, 100]         --\n",
       "│    └─MaxPool2d: 2-6                    [1, 32, 100, 50]          --\n",
       "│    └─Conv2d: 2-7                       [1, 64, 100, 50]          18,496\n",
       "│    └─ReLU: 2-8                         [1, 64, 100, 50]          --\n",
       "│    └─MaxPool2d: 2-9                    [1, 64, 50, 25]           --\n",
       "│    └─Conv2d: 2-10                      [1, 128, 50, 25]          73,856\n",
       "│    └─ReLU: 2-11                        [1, 128, 50, 25]          --\n",
       "│    └─MaxPool2d: 2-12                   [1, 128, 25, 12]          --\n",
       "├─Linear: 1-2                            [1, 2]                    258\n",
       "==========================================================================================\n",
       "Total params: 97,410\n",
       "Trainable params: 97,410\n",
       "Non-trainable params: 0\n",
       "Total mult-adds (M): 290.40\n",
       "==========================================================================================\n",
       "Input size (MB): 0.32\n",
       "Forward/backward pass size (MB): 19.20\n",
       "Params size (MB): 0.39\n",
       "Estimated Total Size (MB): 19.91\n",
       "=========================================================================================="
      ]
     },
     "execution_count": 13,
     "metadata": {},
     "output_type": "execute_result"
    }
   ],
   "source": [
    "model = BasicModel()\n",
    "loss_fn = nn.CrossEntropyLoss()\n",
    "optimizer = torch.optim.Adam(model.parameters(), lr=0.001)\n",
    "torchinfo.summary(model, input_size=(1, 1, 400, 200))"
   ]
  },
  {
   "cell_type": "code",
   "execution_count": 19,
   "metadata": {},
   "outputs": [
    {
     "name": "stderr",
     "output_type": "stream",
     "text": [
      "  0%|          | 0/10 [00:00<?, ?it/s]"
     ]
    },
    {
     "name": "stdout",
     "output_type": "stream",
     "text": [
      "==============================\n",
      "torch.Size([32, 1, 129, 229])\n",
      "torch.Size([32, 1, 129, 229])\n",
      "torch.Size([32, 1, 129, 229])\n",
      "torch.Size([32, 1, 129, 229])\n",
      "torch.Size([32, 1, 129, 229])\n",
      "torch.Size([32, 1, 129, 229])\n",
      "torch.Size([32, 1, 129, 229])\n",
      "torch.Size([32, 1, 129, 229])\n",
      "torch.Size([32, 1, 129, 229])\n",
      "torch.Size([32, 1, 129, 229])\n",
      "torch.Size([32, 1, 129, 229])\n",
      "torch.Size([32, 1, 129, 229])\n",
      "torch.Size([32, 1, 129, 229])\n",
      "torch.Size([32, 1, 129, 229])\n",
      "torch.Size([32, 1, 129, 229])\n",
      "torch.Size([32, 1, 129, 229])\n",
      "torch.Size([32, 1, 129, 229])\n",
      "torch.Size([32, 1, 129, 229])\n",
      "torch.Size([32, 1, 129, 229])\n",
      "torch.Size([32, 1, 129, 229])\n",
      "torch.Size([32, 1, 129, 229])\n",
      "torch.Size([32, 1, 129, 229])\n",
      "torch.Size([32, 1, 129, 229])\n"
     ]
    },
    {
     "name": "stderr",
     "output_type": "stream",
     "text": [
      " 10%|█         | 1/10 [00:25<03:52, 25.83s/it]"
     ]
    },
    {
     "name": "stdout",
     "output_type": "stream",
     "text": [
      "==============================\n",
      "torch.Size([32, 1, 129, 229])\n",
      "torch.Size([32, 1, 129, 229])\n",
      "torch.Size([32, 1, 129, 229])\n",
      "torch.Size([32, 1, 129, 229])\n",
      "torch.Size([32, 1, 129, 229])\n",
      "torch.Size([32, 1, 129, 229])\n",
      "torch.Size([32, 1, 129, 229])\n",
      "torch.Size([32, 1, 129, 229])\n",
      "torch.Size([32, 1, 129, 229])\n",
      "torch.Size([32, 1, 129, 229])\n",
      "torch.Size([32, 1, 129, 229])\n",
      "torch.Size([32, 1, 129, 229])\n",
      "torch.Size([32, 1, 129, 229])\n",
      "torch.Size([32, 1, 129, 229])\n",
      "torch.Size([32, 1, 129, 229])\n",
      "torch.Size([32, 1, 129, 229])\n",
      "torch.Size([32, 1, 129, 229])\n",
      "torch.Size([32, 1, 129, 229])\n",
      "torch.Size([32, 1, 129, 229])\n",
      "torch.Size([32, 1, 129, 229])\n",
      "torch.Size([32, 1, 129, 229])\n",
      "torch.Size([32, 1, 129, 229])\n",
      "torch.Size([32, 1, 129, 229])\n"
     ]
    },
    {
     "name": "stderr",
     "output_type": "stream",
     "text": [
      " 20%|██        | 2/10 [00:45<02:56, 22.02s/it]"
     ]
    },
    {
     "name": "stdout",
     "output_type": "stream",
     "text": [
      "==============================\n",
      "torch.Size([32, 1, 129, 229])\n",
      "torch.Size([32, 1, 129, 229])\n",
      "torch.Size([32, 1, 129, 229])\n",
      "torch.Size([32, 1, 129, 229])\n",
      "torch.Size([32, 1, 129, 229])\n",
      "torch.Size([32, 1, 129, 229])\n",
      "torch.Size([32, 1, 129, 229])\n",
      "torch.Size([32, 1, 129, 229])\n",
      "torch.Size([32, 1, 129, 229])\n",
      "torch.Size([32, 1, 129, 229])\n",
      "torch.Size([32, 1, 129, 229])\n",
      "torch.Size([32, 1, 129, 229])\n",
      "torch.Size([32, 1, 129, 229])\n",
      "torch.Size([32, 1, 129, 229])\n",
      "torch.Size([32, 1, 129, 229])\n",
      "torch.Size([32, 1, 129, 229])\n",
      "torch.Size([32, 1, 129, 229])\n",
      "torch.Size([32, 1, 129, 229])\n",
      "torch.Size([32, 1, 129, 229])\n",
      "torch.Size([32, 1, 129, 229])\n",
      "torch.Size([32, 1, 129, 229])\n",
      "torch.Size([32, 1, 129, 229])\n",
      "torch.Size([32, 1, 129, 229])\n"
     ]
    },
    {
     "name": "stderr",
     "output_type": "stream",
     "text": [
      " 30%|███       | 3/10 [01:05<02:29, 21.34s/it]"
     ]
    },
    {
     "name": "stdout",
     "output_type": "stream",
     "text": [
      "==============================\n",
      "torch.Size([32, 1, 129, 229])\n",
      "torch.Size([32, 1, 129, 229])\n",
      "torch.Size([32, 1, 129, 229])\n",
      "torch.Size([32, 1, 129, 229])\n",
      "torch.Size([32, 1, 129, 229])\n",
      "torch.Size([32, 1, 129, 229])\n",
      "torch.Size([32, 1, 129, 229])\n",
      "torch.Size([32, 1, 129, 229])\n",
      "torch.Size([32, 1, 129, 229])\n",
      "torch.Size([32, 1, 129, 229])\n",
      "torch.Size([32, 1, 129, 229])\n",
      "torch.Size([32, 1, 129, 229])\n",
      "torch.Size([32, 1, 129, 229])\n",
      "torch.Size([32, 1, 129, 229])\n",
      "torch.Size([32, 1, 129, 229])\n",
      "torch.Size([32, 1, 129, 229])\n",
      "torch.Size([32, 1, 129, 229])\n",
      "torch.Size([32, 1, 129, 229])\n",
      "torch.Size([32, 1, 129, 229])\n",
      "torch.Size([32, 1, 129, 229])\n",
      "torch.Size([32, 1, 129, 229])\n",
      "torch.Size([32, 1, 129, 229])\n",
      "torch.Size([32, 1, 129, 229])\n"
     ]
    },
    {
     "name": "stderr",
     "output_type": "stream",
     "text": [
      " 40%|████      | 4/10 [01:31<02:18, 23.05s/it]"
     ]
    },
    {
     "name": "stdout",
     "output_type": "stream",
     "text": [
      "==============================\n",
      "torch.Size([32, 1, 129, 229])\n",
      "torch.Size([32, 1, 129, 229])\n",
      "torch.Size([32, 1, 129, 229])\n",
      "torch.Size([32, 1, 129, 229])\n",
      "torch.Size([32, 1, 129, 229])\n",
      "torch.Size([32, 1, 129, 229])\n",
      "torch.Size([32, 1, 129, 229])\n",
      "torch.Size([32, 1, 129, 229])\n",
      "torch.Size([32, 1, 129, 229])\n",
      "torch.Size([32, 1, 129, 229])\n",
      "torch.Size([32, 1, 129, 229])\n",
      "torch.Size([32, 1, 129, 229])\n",
      "torch.Size([32, 1, 129, 229])\n",
      "torch.Size([32, 1, 129, 229])\n",
      "torch.Size([32, 1, 129, 229])\n",
      "torch.Size([32, 1, 129, 229])\n",
      "torch.Size([32, 1, 129, 229])\n",
      "torch.Size([32, 1, 129, 229])\n",
      "torch.Size([32, 1, 129, 229])\n",
      "torch.Size([32, 1, 129, 229])\n",
      "torch.Size([32, 1, 129, 229])\n",
      "torch.Size([32, 1, 129, 229])\n",
      "torch.Size([32, 1, 129, 229])\n"
     ]
    },
    {
     "name": "stderr",
     "output_type": "stream",
     "text": [
      " 50%|█████     | 5/10 [01:49<01:46, 21.21s/it]"
     ]
    },
    {
     "name": "stdout",
     "output_type": "stream",
     "text": [
      "==============================\n",
      "torch.Size([32, 1, 129, 229])\n",
      "torch.Size([32, 1, 129, 229])\n",
      "torch.Size([32, 1, 129, 229])\n",
      "torch.Size([32, 1, 129, 229])\n",
      "torch.Size([32, 1, 129, 229])\n",
      "torch.Size([32, 1, 129, 229])\n",
      "torch.Size([32, 1, 129, 229])\n",
      "torch.Size([32, 1, 129, 229])\n",
      "torch.Size([32, 1, 129, 229])\n",
      "torch.Size([32, 1, 129, 229])\n",
      "torch.Size([32, 1, 129, 229])\n",
      "torch.Size([32, 1, 129, 229])\n",
      "torch.Size([32, 1, 129, 229])\n",
      "torch.Size([32, 1, 129, 229])\n",
      "torch.Size([32, 1, 129, 229])\n",
      "torch.Size([32, 1, 129, 229])\n",
      "torch.Size([32, 1, 129, 229])\n",
      "torch.Size([32, 1, 129, 229])\n",
      "torch.Size([32, 1, 129, 229])\n",
      "torch.Size([32, 1, 129, 229])\n",
      "torch.Size([32, 1, 129, 229])\n",
      "torch.Size([32, 1, 129, 229])\n",
      "torch.Size([32, 1, 129, 229])\n"
     ]
    },
    {
     "name": "stderr",
     "output_type": "stream",
     "text": [
      " 60%|██████    | 6/10 [02:08<01:21, 20.41s/it]"
     ]
    },
    {
     "name": "stdout",
     "output_type": "stream",
     "text": [
      "==============================\n",
      "torch.Size([32, 1, 129, 229])\n",
      "torch.Size([32, 1, 129, 229])\n",
      "torch.Size([32, 1, 129, 229])\n",
      "torch.Size([32, 1, 129, 229])\n",
      "torch.Size([32, 1, 129, 229])\n",
      "torch.Size([32, 1, 129, 229])\n",
      "torch.Size([32, 1, 129, 229])\n",
      "torch.Size([32, 1, 129, 229])\n",
      "torch.Size([32, 1, 129, 229])\n",
      "torch.Size([32, 1, 129, 229])\n",
      "torch.Size([32, 1, 129, 229])\n",
      "torch.Size([32, 1, 129, 229])\n",
      "torch.Size([32, 1, 129, 229])\n",
      "torch.Size([32, 1, 129, 229])\n",
      "torch.Size([32, 1, 129, 229])\n",
      "torch.Size([32, 1, 129, 229])\n",
      "torch.Size([32, 1, 129, 229])\n",
      "torch.Size([32, 1, 129, 229])\n",
      "torch.Size([32, 1, 129, 229])\n",
      "torch.Size([32, 1, 129, 229])\n",
      "torch.Size([32, 1, 129, 229])\n",
      "torch.Size([32, 1, 129, 229])\n",
      "torch.Size([32, 1, 129, 229])\n"
     ]
    },
    {
     "name": "stderr",
     "output_type": "stream",
     "text": [
      " 70%|███████   | 7/10 [02:28<01:00, 20.25s/it]"
     ]
    },
    {
     "name": "stdout",
     "output_type": "stream",
     "text": [
      "==============================\n",
      "torch.Size([32, 1, 129, 229])\n",
      "torch.Size([32, 1, 129, 229])\n",
      "torch.Size([32, 1, 129, 229])\n",
      "torch.Size([32, 1, 129, 229])\n",
      "torch.Size([32, 1, 129, 229])\n",
      "torch.Size([32, 1, 129, 229])\n",
      "torch.Size([32, 1, 129, 229])\n",
      "torch.Size([32, 1, 129, 229])\n",
      "torch.Size([32, 1, 129, 229])\n",
      "torch.Size([32, 1, 129, 229])\n",
      "torch.Size([32, 1, 129, 229])\n",
      "torch.Size([32, 1, 129, 229])\n",
      "torch.Size([32, 1, 129, 229])\n",
      "torch.Size([32, 1, 129, 229])\n",
      "torch.Size([32, 1, 129, 229])\n",
      "torch.Size([32, 1, 129, 229])\n",
      "torch.Size([32, 1, 129, 229])\n",
      "torch.Size([32, 1, 129, 229])\n",
      "torch.Size([32, 1, 129, 229])\n",
      "torch.Size([32, 1, 129, 229])\n",
      "torch.Size([32, 1, 129, 229])\n",
      "torch.Size([32, 1, 129, 229])\n",
      "torch.Size([32, 1, 129, 229])\n"
     ]
    },
    {
     "name": "stderr",
     "output_type": "stream",
     "text": [
      " 80%|████████  | 8/10 [02:45<00:38, 19.34s/it]"
     ]
    },
    {
     "name": "stdout",
     "output_type": "stream",
     "text": [
      "==============================\n",
      "torch.Size([32, 1, 129, 229])\n",
      "torch.Size([32, 1, 129, 229])\n",
      "torch.Size([32, 1, 129, 229])\n",
      "torch.Size([32, 1, 129, 229])\n",
      "torch.Size([32, 1, 129, 229])\n",
      "torch.Size([32, 1, 129, 229])\n",
      "torch.Size([32, 1, 129, 229])\n",
      "torch.Size([32, 1, 129, 229])\n",
      "torch.Size([32, 1, 129, 229])\n",
      "torch.Size([32, 1, 129, 229])\n",
      "torch.Size([32, 1, 129, 229])\n",
      "torch.Size([32, 1, 129, 229])\n",
      "torch.Size([32, 1, 129, 229])\n",
      "torch.Size([32, 1, 129, 229])\n",
      "torch.Size([32, 1, 129, 229])\n",
      "torch.Size([32, 1, 129, 229])\n",
      "torch.Size([32, 1, 129, 229])\n",
      "torch.Size([32, 1, 129, 229])\n",
      "torch.Size([32, 1, 129, 229])\n",
      "torch.Size([32, 1, 129, 229])\n",
      "torch.Size([32, 1, 129, 229])\n",
      "torch.Size([32, 1, 129, 229])\n",
      "torch.Size([32, 1, 129, 229])\n"
     ]
    },
    {
     "name": "stderr",
     "output_type": "stream",
     "text": [
      " 90%|█████████ | 9/10 [03:08<00:20, 20.52s/it]"
     ]
    },
    {
     "name": "stdout",
     "output_type": "stream",
     "text": [
      "==============================\n",
      "torch.Size([32, 1, 129, 229])\n",
      "torch.Size([32, 1, 129, 229])\n",
      "torch.Size([32, 1, 129, 229])\n",
      "torch.Size([32, 1, 129, 229])\n",
      "torch.Size([32, 1, 129, 229])\n",
      "torch.Size([32, 1, 129, 229])\n",
      "torch.Size([32, 1, 129, 229])\n",
      "torch.Size([32, 1, 129, 229])\n",
      "torch.Size([32, 1, 129, 229])\n",
      "torch.Size([32, 1, 129, 229])\n",
      "torch.Size([32, 1, 129, 229])\n",
      "torch.Size([32, 1, 129, 229])\n",
      "torch.Size([32, 1, 129, 229])\n",
      "torch.Size([32, 1, 129, 229])\n",
      "torch.Size([32, 1, 129, 229])\n",
      "torch.Size([32, 1, 129, 229])\n",
      "torch.Size([32, 1, 129, 229])\n",
      "torch.Size([32, 1, 129, 229])\n",
      "torch.Size([32, 1, 129, 229])\n",
      "torch.Size([32, 1, 129, 229])\n",
      "torch.Size([32, 1, 129, 229])\n",
      "torch.Size([32, 1, 129, 229])\n",
      "torch.Size([32, 1, 129, 229])\n"
     ]
    },
    {
     "name": "stderr",
     "output_type": "stream",
     "text": [
      "100%|██████████| 10/10 [03:25<00:00, 20.55s/it]\n"
     ]
    }
   ],
   "source": [
    "for epoch in tqdm(range(10)):\n",
    "  print(\"=\"*30)\n",
    "  for i, (x, y) in enumerate(train_dataloader):\n",
    "    loss = loss_fn(logits, y)\n",
    "    optimizer.zero_grad()\n",
    "    loss.backward()\n",
    "    optimizer.step()\n",
    "  accu = 0\n",
    "  loss = 0\n",
    "  # for i, (x, y) in enumerate(test_dataloader):\n",
    "  #   logits = model(x)\n",
    "  #   loss += loss_fn(logits, y)\n",
    "  #   accu += torch.sum(torch.argmax(logits, dim=1) == y).item()\n",
    "  # print(\"Epoch: {}, Loss: {}, Accuracy: {}\".format(epoch, loss / len(test_dataset), accu / len(test_dataset)))"
   ]
  },
  {
   "cell_type": "code",
   "execution_count": 15,
   "metadata": {},
   "outputs": [],
   "source": [
    "from sklearn.metrics import ConfusionMatrixDisplay\n",
    "\n",
    "targets = []\n",
    "predictions = []\n",
    "for i, (x, y) in enumerate(test_dataloader):\n",
    "  logits = model(x)\n",
    "  predictions.extend(torch.argmax(logits, dim=1).numpy().tolist())\n",
    "  targets.extend(y.numpy().tolist())"
   ]
  },
  {
   "cell_type": "code",
   "execution_count": 16,
   "metadata": {},
   "outputs": [
    {
     "data": {
      "text/plain": [
       "<sklearn.metrics._plot.confusion_matrix.ConfusionMatrixDisplay at 0x129d49030>"
      ]
     },
     "execution_count": 16,
     "metadata": {},
     "output_type": "execute_result"
    },
    {
     "data": {
      "image/png": "[encoded data removed]",
      "text/plain": [
       "<Figure size 720x360 with 4 Axes>"
      ]
     },
     "metadata": {
      "needs_background": "light"
     },
     "output_type": "display_data"
    }
   ],
   "source": [
    "fig, axs = plt.subplots(1, 2, figsize=(10, 5))\n",
    "ConfusionMatrixDisplay.from_predictions(targets, predictions, normalize=\"true\", ax=axs[0])\n",
    "ConfusionMatrixDisplay.from_predictions(targets, predictions, normalize=\"pred\", ax=axs[1])"
   ]
  }
 ],
 "metadata": {
  "interpreter": {
   "hash": "2db47ff5d915a88877d09c74664ee98c88dbd61c7ef890d46532488c99d9b1a3"
  },
  "kernelspec": {
   "display_name": "Python 3.10.2 ('audio_env': venv)",
   "language": "python",
   "name": "python3"
  },
  "language_info": {
   "codemirror_mode": {
    "name": "ipython",
    "version": 3
   },
   "file_extension": ".py",
   "mimetype": "text/x-python",
   "name": "python",
   "nbconvert_exporter": "python",
   "pygments_lexer": "ipython3",
   "version": "3.9.13"
  },
  "orig_nbformat": 4
 },
 "nbformat": 4,
 "nbformat_minor": 2
}
