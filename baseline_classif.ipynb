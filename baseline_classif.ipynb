{
 "cells": [
  {
   "cell_type": "code",
   "execution_count": 1,
   "metadata": {},
   "outputs": [],
   "source": [
    "from src.utils import audio_utils\n",
    "import matplotlib.pyplot as plt\n",
    "import os\n",
    "import torch\n",
    "nn = torch.nn\n",
    "from src.utils import path_utils\n",
    "import torchinfo\n",
    "import torchvision"
   ]
  },
  {
   "cell_type": "code",
   "execution_count": 12,
   "metadata": {},
   "outputs": [],
   "source": [
    "class ClassifDataset(torch.utils.data.Dataset):\n",
    "\n",
    "  def __init__(self, positive_path, negative_path):\n",
    "    self.positive_path = positive_path\n",
    "    self.negative_path = negative_path\n",
    "    self.positive_files = [file for file in os.listdir(self.positive_path) if file.endswith(\".wav\")]\n",
    "    self.negative_files = [file for file in os.listdir(self.negative_path) if file.endswith(\".wav\")]\n",
    "    self.reshape_size = (129, 229)\n",
    "    self.transform = torchvision.transforms.Compose([torchvision.transforms.ToTensor(), torchvision.transforms.Resize(self.reshape_size), torchvision.transforms.Normalize((6.9260e-07,), (4.2260e-06,))])\n",
    "\n",
    "  def __len__(self):\n",
    "    return len(self.positive_files) + len(self.negative_files)\n",
    "  \n",
    "  def __getitem__(self, idx):\n",
    "    if idx < len(self.positive_files):\n",
    "      file_path = os.path.join(self.positive_path, self.positive_files[idx])\n",
    "      data, fs = audio_utils.load_audio_file(file_path)\n",
    "      _, _, Sxx = audio_utils.compute_spectrogram(data, fs, nperseg=256, noverlap=256//4)\n",
    "      Sxx = self.transform(Sxx)\n",
    "      return Sxx, 1\n",
    "    else:\n",
    "      file_path = os.path.join(self.negative_path, self.negative_files[idx - len(self.positive_files)])\n",
    "      data, fs = audio_utils.load_audio_file(file_path)\n",
    "      _, _, Sxx = audio_utils.compute_spectrogram(data, fs, nperseg=256, noverlap=256//4)\n",
    "      Sxx = self.transform(Sxx)\n",
    "      return Sxx, 0"
   ]
  },
  {
   "cell_type": "code",
   "execution_count": 13,
   "metadata": {},
   "outputs": [],
   "source": [
    "train_dataset = ClassifDataset(path_utils.get_train_test_path(path_utils.get_positive_samples_path(), True), path_utils.get_train_test_path(path_utils.get_negative_samples_path(), True))\n",
    "test_dataset = ClassifDataset(path_utils.get_train_test_path(path_utils.get_positive_samples_path(), False), path_utils.get_train_test_path(path_utils.get_negative_samples_path(), False))\n",
    "train_dataloader = torch.utils.data.DataLoader(train_dataset, batch_size=32, shuffle=True, drop_last=True)\n",
    "test_dataloader = torch.utils.data.DataLoader(test_dataset, batch_size=32, shuffle=False, drop_last=False)"
   ]
  },
  {
   "cell_type": "code",
   "execution_count": 14,
   "metadata": {},
   "outputs": [],
   "source": [
    "class BasicModel(nn.Module):\n",
    "  def __init__(self):\n",
    "    super().__init__()\n",
    "    self.main = nn.Sequential(\n",
    "      nn.Conv2d(1, 16, kernel_size=3, stride=1, padding=1),\n",
    "      nn.ReLU(),\n",
    "      nn.MaxPool2d(kernel_size=2, stride=2),\n",
    "      nn.Conv2d(16, 32, kernel_size=3, stride=1, padding=1),\n",
    "      nn.ReLU(),\n",
    "      nn.MaxPool2d(kernel_size=2, stride=2),\n",
    "      nn.Conv2d(32, 64, kernel_size=3, stride=1, padding=1),\n",
    "      nn.ReLU(),\n",
    "      nn.MaxPool2d(kernel_size=2, stride=2),\n",
    "      nn.Conv2d(64, 128, kernel_size=3, stride=1, padding=1),\n",
    "      nn.ReLU(),\n",
    "      nn.MaxPool2d(kernel_size=2, stride=2),\n",
    "    )\n",
    "    self.linear = nn.Linear(128, 2)\n",
    "  \n",
    "  def forward(self, x):\n",
    "    x = self.main(x)\n",
    "    # global average pooling\n",
    "    x = nn.functional.avg_pool2d(x, kernel_size=x.shape[2:]).view(x.shape[0], -1)\n",
    "    x = self.linear(x)\n",
    "    return x\n"
   ]
  },
  {
   "cell_type": "code",
   "execution_count": 15,
   "metadata": {},
   "outputs": [],
   "source": [
    "model = BasicModel()\n",
    "torchinfo.summary(model, input_size=(1, 1, 400, 200))\n",
    "loss_fn = nn.CrossEntropyLoss()\n",
    "optimizer = torch.optim.Adam(model.parameters(), lr=0.001)\n"
   ]
  },
  {
   "cell_type": "code",
   "execution_count": 16,
   "metadata": {},
   "outputs": [
    {
     "name": "stdout",
     "output_type": "stream",
     "text": [
      "==============================\n",
      "Epoch: 0, Loss: 0.011848356574773788, Accuracy: 0.8432432432432433\n",
      "==============================\n",
      "Epoch: 1, Loss: 0.010756700299680233, Accuracy: 0.8810810810810811\n",
      "==============================\n",
      "Epoch: 2, Loss: 0.009923494420945644, Accuracy: 0.8810810810810811\n",
      "==============================\n",
      "Epoch: 3, Loss: 0.007880293764173985, Accuracy: 0.8972972972972973\n",
      "==============================\n",
      "Epoch: 4, Loss: 0.006491133943200111, Accuracy: 0.9081081081081082\n",
      "==============================\n",
      "Epoch: 5, Loss: 0.00526657747104764, Accuracy: 0.9891891891891892\n",
      "==============================\n",
      "Epoch: 6, Loss: 0.0042888266034424305, Accuracy: 0.9891891891891892\n",
      "==============================\n",
      "Epoch: 7, Loss: 0.006881056819111109, Accuracy: 0.9837837837837838\n",
      "==============================\n",
      "Epoch: 8, Loss: 0.0018914921674877405, Accuracy: 0.9891891891891892\n",
      "==============================\n",
      "Epoch: 9, Loss: 0.004660426173359156, Accuracy: 0.9891891891891892\n"
     ]
    }
   ],
   "source": [
    "for epoch in range(10):\n",
    "  print(\"=\"*30)\n",
    "  for i, (x, y) in enumerate(train_dataloader):\n",
    "    logits = model(x)\n",
    "    loss = loss_fn(logits, y)\n",
    "    optimizer.zero_grad()\n",
    "    loss.backward()\n",
    "    optimizer.step()\n",
    "  accu = 0\n",
    "  loss = 0\n",
    "  for i, (x, y) in enumerate(test_dataloader):\n",
    "    logits = model(x)\n",
    "    loss += loss_fn(logits, y)\n",
    "    accu += torch.sum(torch.argmax(logits, dim=1) == y).item()\n",
    "  print(\"Epoch: {}, Loss: {}, Accuracy: {}\".format(epoch, loss / len(test_dataset), accu / len(test_dataset)))\n"
   ]
  },
  {
   "cell_type": "code",
   "execution_count": 19,
   "metadata": {},
   "outputs": [
    {
     "data": {
      "text/plain": [
       "<sklearn.metrics._plot.confusion_matrix.ConfusionMatrixDisplay at 0x125a2bf40>"
      ]
     },
     "execution_count": 19,
     "metadata": {},
     "output_type": "execute_result"
    },
    {
     "data": {
      "image/png": "[encoded data removed]",
      "text/plain": [
       "<Figure size 432x288 with 2 Axes>"
      ]
     },
     "metadata": {
      "needs_background": "light"
     },
     "output_type": "display_data"
    }
   ],
   "source": [
    "from sklearn.metrics import ConfusionMatrixDisplay\n",
    "\n",
    "targets = []\n",
    "predictions = []\n",
    "for i, (x, y) in enumerate(test_dataloader):\n",
    "  logits = model(x)\n",
    "  predictions.extend(torch.argmax(logits, dim=1).numpy().tolist())\n",
    "  targets.extend(y.numpy().tolist())\n",
    "\n",
    "ConfusionMatrixDisplay.from_predictions(targets, predictions)"
   ]
  }
 ],
 "metadata": {
  "interpreter": {
   "hash": "aee8b7b246df8f9039afb4144a1f6fd8d2ca17a180786b69acc140d282b71a49"
  },
  "kernelspec": {
   "display_name": "Python 3.9.12 64-bit",
   "language": "python",
   "name": "python3"
  },
  "language_info": {
   "codemirror_mode": {
    "name": "ipython",
    "version": 3
   },
   "file_extension": ".py",
   "mimetype": "text/x-python",
   "name": "python",
   "nbconvert_exporter": "python",
   "pygments_lexer": "ipython3",
   "version": "3.9.12"
  },
  "orig_nbformat": 4
 },
 "nbformat": 4,
 "nbformat_minor": 2
}
